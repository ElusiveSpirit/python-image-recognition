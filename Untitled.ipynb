{
 "cells": [
  {
   "cell_type": "code",
   "execution_count": 41,
   "metadata": {},
   "outputs": [],
   "source": [
    "import mnist_loader\n",
    "training_data, validation_data, test_data = mnist_loader.load_data_wrapper()\n",
    "training_data = list(training_data)\n",
    "test_data = list(test_data)"
   ]
  },
  {
   "cell_type": "code",
   "execution_count": 20,
   "metadata": {},
   "outputs": [],
   "source": [
    "from collections import defaultdict\n",
    "import numpy as np"
   ]
  },
  {
   "cell_type": "code",
   "execution_count": 21,
   "metadata": {},
   "outputs": [
    {
     "name": "stdout",
     "output_type": "stream",
     "text": [
      "0 4932\n",
      "1 5678\n",
      "2 4968\n",
      "3 5101\n",
      "4 4859\n",
      "5 4506\n",
      "6 4951\n",
      "7 5175\n",
      "8 4842\n",
      "9 4988\n"
     ]
    }
   ],
   "source": [
    "digits = defaultdict(int)\n",
    "\n",
    "for _, i in training_data:\n",
    "    digits[np.argmax(i)] += 1\n",
    "\n",
    "for i, count in sorted(digits.items(), key=lambda x: x[0]):\n",
    "    print(i, count)"
   ]
  },
  {
   "cell_type": "code",
   "execution_count": 22,
   "metadata": {},
   "outputs": [
    {
     "name": "stdout",
     "output_type": "stream",
     "text": [
      "Epoch 0 complete\n",
      "Epoch 1 complete\n",
      "Epoch 2 complete\n",
      "Epoch 3 complete\n",
      "Epoch 4 complete\n",
      "Epoch 5 complete\n",
      "Epoch 6 complete\n",
      "Epoch 7 complete\n",
      "Epoch 8 complete\n",
      "Epoch 9 complete\n",
      "Epoch 10 complete\n",
      "Epoch 11 complete\n",
      "Epoch 12 complete\n",
      "Epoch 13 complete\n",
      "Epoch 14 complete\n",
      "Epoch 15 complete\n",
      "Epoch 16 complete\n",
      "Epoch 17 complete\n",
      "Epoch 18 complete\n",
      "Epoch 19 complete\n",
      "Epoch 20 complete\n",
      "Epoch 21 complete\n",
      "Epoch 22 complete\n",
      "Epoch 23 complete\n",
      "Epoch 24 complete\n",
      "Epoch 25 complete\n",
      "Epoch 26 complete\n",
      "Epoch 27 complete\n",
      "Epoch 28 complete\n",
      "Epoch 29 complete\n"
     ]
    },
    {
     "data": {
      "text/plain": [
       "9252"
      ]
     },
     "execution_count": 22,
     "metadata": {},
     "output_type": "execute_result"
    }
   ],
   "source": [
    "from network import Network\n",
    "net = Network([784, 50, 10])\n",
    "net.train(training_data, 30, 10, 10.0)\n",
    "net.save_to_file('network_50.json')\n",
    "\n",
    "net._evaluate(test_data)"
   ]
  },
  {
   "cell_type": "code",
   "execution_count": 49,
   "metadata": {},
   "outputs": [
    {
     "name": "stdout",
     "output_type": "stream",
     "text": [
      "Epoch 0 complete\n"
     ]
    },
    {
     "data": {
      "text/plain": [
       "8261"
      ]
     },
     "execution_count": 49,
     "metadata": {},
     "output_type": "execute_result"
    }
   ],
   "source": [
    "net = Network([784, 30, 10])\n",
    "net.train(training_data, 1, 10, 3.0)\n",
    "net._evaluate(test_data)"
   ]
  },
  {
   "cell_type": "code",
   "execution_count": 50,
   "metadata": {},
   "outputs": [
    {
     "name": "stdout",
     "output_type": "stream",
     "text": [
      "Epoch 0 complete\n"
     ]
    },
    {
     "data": {
      "text/plain": [
       "8345"
      ]
     },
     "execution_count": 50,
     "metadata": {},
     "output_type": "execute_result"
    }
   ],
   "source": [
    "net = Network([784, 35, 10])\n",
    "net.train(training_data, 1, 10, 3.0)\n",
    "net._evaluate(test_data)"
   ]
  },
  {
   "cell_type": "code",
   "execution_count": 51,
   "metadata": {},
   "outputs": [
    {
     "name": "stdout",
     "output_type": "stream",
     "text": [
      "Epoch 0 complete\n"
     ]
    },
    {
     "data": {
      "text/plain": [
       "8359"
      ]
     },
     "execution_count": 51,
     "metadata": {},
     "output_type": "execute_result"
    }
   ],
   "source": [
    "net = Network([784, 40, 10])\n",
    "net.train(training_data, 1, 10, 3.0)\n",
    "net._evaluate(test_data)"
   ]
  },
  {
   "cell_type": "code",
   "execution_count": 52,
   "metadata": {},
   "outputs": [
    {
     "name": "stdout",
     "output_type": "stream",
     "text": [
      "Epoch 0 complete\n"
     ]
    },
    {
     "data": {
      "text/plain": [
       "7475"
      ]
     },
     "execution_count": 52,
     "metadata": {},
     "output_type": "execute_result"
    }
   ],
   "source": [
    "net = Network([784, 50, 10])\n",
    "net.train(training_data, 1, 10, 3.0)\n",
    "net._evaluate(test_data)"
   ]
  },
  {
   "cell_type": "code",
   "execution_count": 53,
   "metadata": {},
   "outputs": [
    {
     "name": "stdout",
     "output_type": "stream",
     "text": [
      "Epoch 0 complete\n"
     ]
    },
    {
     "data": {
      "text/plain": [
       "7464"
      ]
     },
     "execution_count": 53,
     "metadata": {},
     "output_type": "execute_result"
    }
   ],
   "source": [
    "net = Network([784, 60, 10])\n",
    "net.train(training_data, 1, 10, 3.0)\n",
    "net._evaluate(test_data)"
   ]
  },
  {
   "cell_type": "code",
   "execution_count": 54,
   "metadata": {},
   "outputs": [
    {
     "name": "stdout",
     "output_type": "stream",
     "text": [
      "Epoch 0 complete\n"
     ]
    },
    {
     "data": {
      "text/plain": [
       "7693"
      ]
     },
     "execution_count": 54,
     "metadata": {},
     "output_type": "execute_result"
    }
   ],
   "source": [
    "net = Network([784, 60, 10])\n",
    "net.train(training_data, 1, 10, 5.0)\n",
    "net._evaluate(test_data)"
   ]
  },
  {
   "cell_type": "code",
   "execution_count": 55,
   "metadata": {},
   "outputs": [
    {
     "name": "stdout",
     "output_type": "stream",
     "text": [
      "Epoch 0 complete\n"
     ]
    },
    {
     "data": {
      "text/plain": [
       "8620"
      ]
     },
     "execution_count": 55,
     "metadata": {},
     "output_type": "execute_result"
    }
   ],
   "source": [
    "net = Network([784, 60, 10])\n",
    "net.train(training_data, 1, 10, 7.0)\n",
    "net._evaluate(test_data)"
   ]
  },
  {
   "cell_type": "code",
   "execution_count": 56,
   "metadata": {},
   "outputs": [
    {
     "name": "stdout",
     "output_type": "stream",
     "text": [
      "Epoch 0 complete\n"
     ]
    },
    {
     "data": {
      "text/plain": [
       "8545"
      ]
     },
     "execution_count": 56,
     "metadata": {},
     "output_type": "execute_result"
    }
   ],
   "source": [
    "net = Network([784, 60, 10])\n",
    "net.train(training_data, 1, 10, 10.0)\n",
    "net._evaluate(test_data)"
   ]
  },
  {
   "cell_type": "code",
   "execution_count": 57,
   "metadata": {},
   "outputs": [
    {
     "name": "stdout",
     "output_type": "stream",
     "text": [
      "Epoch 0 complete\n",
      "Epoch 1 complete\n",
      "Epoch 2 complete\n",
      "Epoch 3 complete\n",
      "Epoch 4 complete\n"
     ]
    },
    {
     "data": {
      "text/plain": [
       "9042"
      ]
     },
     "execution_count": 57,
     "metadata": {},
     "output_type": "execute_result"
    }
   ],
   "source": [
    "net = Network([784, 60, 10])\n",
    "net.train(training_data, 5, 10, 7.0)\n",
    "net._evaluate(test_data)"
   ]
  },
  {
   "cell_type": "code",
   "execution_count": 58,
   "metadata": {},
   "outputs": [
    {
     "name": "stdout",
     "output_type": "stream",
     "text": [
      "Epoch 0 : 8722 / 10000\n",
      "Epoch 1 : 8949 / 10000\n",
      "Epoch 2 : 9041 / 10000\n",
      "Epoch 3 : 9269 / 10000\n",
      "Epoch 4 : 9203 / 10000\n",
      "Epoch 5 : 9083 / 10000\n",
      "Epoch 6 : 9247 / 10000\n",
      "Epoch 7 : 9168 / 10000\n",
      "Epoch 8 : 9234 / 10000\n",
      "Epoch 9 : 9210 / 10000\n",
      "Epoch 10 : 9089 / 10000\n",
      "Epoch 11 : 9303 / 10000\n",
      "Epoch 12 : 9327 / 10000\n",
      "Epoch 13 : 9283 / 10000\n",
      "Epoch 14 : 9315 / 10000\n",
      "Epoch 15 : 9381 / 10000\n",
      "Epoch 16 : 9373 / 10000\n",
      "Epoch 17 : 9385 / 10000\n",
      "Epoch 18 : 9393 / 10000\n",
      "Epoch 19 : 9377 / 10000\n"
     ]
    }
   ],
   "source": [
    "net = Network([784, 60, 10])\n",
    "net.train(training_data, 20, 10, 7.0, test_data)"
   ]
  },
  {
   "cell_type": "code",
   "execution_count": 59,
   "metadata": {},
   "outputs": [],
   "source": [
    "net.save_to_file('network_60.json')"
   ]
  },
  {
   "cell_type": "code",
   "execution_count": 60,
   "metadata": {},
   "outputs": [
    {
     "name": "stdout",
     "output_type": "stream",
     "text": [
      "Epoch 0 : 8469 / 10000\n",
      "Epoch 1 : 8761 / 10000\n",
      "Epoch 2 : 8753 / 10000\n",
      "Epoch 3 : 8946 / 10000\n",
      "Epoch 4 : 9019 / 10000\n",
      "Epoch 5 : 8999 / 10000\n",
      "Epoch 6 : 9104 / 10000\n",
      "Epoch 7 : 9107 / 10000\n",
      "Epoch 8 : 9122 / 10000\n",
      "Epoch 9 : 9128 / 10000\n",
      "Epoch 10 : 9119 / 10000\n",
      "Epoch 11 : 9131 / 10000\n",
      "Epoch 12 : 9064 / 10000\n",
      "Epoch 13 : 9229 / 10000\n",
      "Epoch 14 : 9178 / 10000\n",
      "Epoch 15 : 9160 / 10000\n",
      "Epoch 16 : 9195 / 10000\n",
      "Epoch 17 : 9228 / 10000\n",
      "Epoch 18 : 9188 / 10000\n",
      "Epoch 19 : 9166 / 10000\n"
     ]
    }
   ],
   "source": [
    "net = Network([784, 30, 10])\n",
    "net.train(training_data, 20, 10, 7.0, test_data)"
   ]
  },
  {
   "cell_type": "code",
   "execution_count": 61,
   "metadata": {},
   "outputs": [],
   "source": [
    "net.save_to_file('network_30_new.json')"
   ]
  },
  {
   "cell_type": "code",
   "execution_count": 63,
   "metadata": {},
   "outputs": [
    {
     "name": "stdout",
     "output_type": "stream",
     "text": [
      "./networks/network_60.json\n",
      "./networks/network_30_new.json\n",
      "./networks/network_50.json\n",
      "./networks/network.json\n",
      "./networks/network_30.json\n"
     ]
    }
   ],
   "source": [
    "import os\n",
    "\n",
    "for dirname, dirnames, filenames in os.walk('./networks'):\n",
    "\n",
    "    # print path to all filenames.\n",
    "    for filename in filenames:\n",
    "        print(os.path.join(dirname, filename))\n"
   ]
  },
  {
   "cell_type": "code",
   "execution_count": 65,
   "metadata": {},
   "outputs": [
    {
     "name": "stdout",
     "output_type": "stream",
     "text": [
      "Epoch 0 : 8123 / 10000\n",
      "Epoch 1 : 8557 / 10000\n",
      "Epoch 2 : 8749 / 10000\n",
      "Epoch 3 : 8763 / 10000\n",
      "Epoch 4 : 8960 / 10000\n",
      "Epoch 5 : 8885 / 10000\n",
      "Epoch 6 : 8961 / 10000\n",
      "Epoch 7 : 8949 / 10000\n",
      "Epoch 8 : 8914 / 10000\n",
      "Epoch 9 : 9032 / 10000\n",
      "Epoch 10 : 9034 / 10000\n",
      "Epoch 11 : 9081 / 10000\n",
      "Epoch 12 : 9068 / 10000\n",
      "Epoch 13 : 9112 / 10000\n",
      "Epoch 14 : 9164 / 10000\n",
      "Epoch 15 : 9040 / 10000\n",
      "Epoch 16 : 9150 / 10000\n",
      "Epoch 17 : 9161 / 10000\n",
      "Epoch 18 : 9141 / 10000\n",
      "Epoch 19 : 9193 / 10000\n"
     ]
    }
   ],
   "source": [
    "net = Network([784, 30, 10])\n",
    "net.train(training_data, 20, 10, 3.0, test_data)\n",
    "net.save_to_file('./networks/network_30_20-10-3.json')"
   ]
  },
  {
   "cell_type": "code",
   "execution_count": 68,
   "metadata": {},
   "outputs": [
    {
     "name": "stdout",
     "output_type": "stream",
     "text": [
      "Epoch 0 : 5493 / 10000\n",
      "Epoch 1 : 6027 / 10000\n",
      "Epoch 2 : 7023 / 10000\n",
      "Epoch 3 : 6754 / 10000\n",
      "Epoch 4 : 6982 / 10000\n",
      "Epoch 5 : 8263 / 10000\n",
      "Epoch 6 : 8274 / 10000\n",
      "Epoch 7 : 8250 / 10000\n",
      "Epoch 8 : 8251 / 10000\n",
      "Epoch 9 : 8370 / 10000\n",
      "Epoch 10 : 8404 / 10000\n",
      "Epoch 11 : 8440 / 10000\n",
      "Epoch 12 : 8401 / 10000\n",
      "Epoch 13 : 8513 / 10000\n",
      "Epoch 14 : 8248 / 10000\n",
      "Epoch 15 : 8469 / 10000\n",
      "Epoch 16 : 8402 / 10000\n",
      "Epoch 17 : 8461 / 10000\n",
      "Epoch 18 : 8573 / 10000\n",
      "Epoch 19 : 8414 / 10000\n",
      "Epoch 20 : 8475 / 10000\n",
      "Epoch 21 : 8535 / 10000\n",
      "Epoch 22 : 8510 / 10000\n",
      "Epoch 23 : 8432 / 10000\n",
      "Epoch 24 : 8469 / 10000\n",
      "Epoch 25 : 8506 / 10000\n",
      "Epoch 26 : 8465 / 10000\n",
      "Epoch 27 : 8493 / 10000\n",
      "Epoch 28 : 8459 / 10000\n",
      "Epoch 29 : 8543 / 10000\n",
      "Epoch 30 : 8469 / 10000\n",
      "Epoch 31 : 8526 / 10000\n",
      "Epoch 32 : 8520 / 10000\n",
      "Epoch 33 : 8490 / 10000\n",
      "Epoch 34 : 8544 / 10000\n",
      "Epoch 35 : 8492 / 10000\n",
      "Epoch 36 : 8559 / 10000\n",
      "Epoch 37 : 8517 / 10000\n",
      "Epoch 38 : 8445 / 10000\n",
      "Epoch 39 : 8518 / 10000\n"
     ]
    }
   ],
   "source": [
    "net = Network([784, 100, 10])\n",
    "net.train(training_data, 40, 10, 7.0, test_data)\n",
    "net.save_to_file('./networks/network_100_40-10-7.json')"
   ]
  },
  {
   "cell_type": "code",
   "execution_count": 69,
   "metadata": {},
   "outputs": [
    {
     "name": "stdout",
     "output_type": "stream",
     "text": [
      "Epoch 0 : 8454 / 10000\n",
      "Epoch 1 : 8749 / 10000\n",
      "Epoch 2 : 8822 / 10000\n",
      "Epoch 3 : 8791 / 10000\n",
      "Epoch 4 : 9036 / 10000\n",
      "Epoch 5 : 8817 / 10000\n",
      "Epoch 6 : 9071 / 10000\n",
      "Epoch 7 : 9094 / 10000\n",
      "Epoch 8 : 9155 / 10000\n",
      "Epoch 9 : 9121 / 10000\n",
      "Epoch 10 : 9090 / 10000\n",
      "Epoch 11 : 9151 / 10000\n",
      "Epoch 12 : 9165 / 10000\n",
      "Epoch 13 : 9037 / 10000\n",
      "Epoch 14 : 9114 / 10000\n",
      "Epoch 15 : 9197 / 10000\n",
      "Epoch 16 : 9123 / 10000\n",
      "Epoch 17 : 9115 / 10000\n",
      "Epoch 18 : 9118 / 10000\n",
      "Epoch 19 : 9207 / 10000\n"
     ]
    }
   ],
   "source": [
    "net = Network([784, 30, 10])\n",
    "net.train(training_data, 20, 10, 7.0, test_data)\n",
    "net.save_to_file('./networks/network_30_20-10-7.json')"
   ]
  },
  {
   "cell_type": "code",
   "execution_count": null,
   "metadata": {},
   "outputs": [],
   "source": []
  }
 ],
 "metadata": {
  "kernelspec": {
   "display_name": "Python 3",
   "language": "python",
   "name": "python3"
  },
  "language_info": {
   "codemirror_mode": {
    "name": "ipython",
    "version": 3
   },
   "file_extension": ".py",
   "mimetype": "text/x-python",
   "name": "python",
   "nbconvert_exporter": "python",
   "pygments_lexer": "ipython3",
   "version": "3.6.3"
  }
 },
 "nbformat": 4,
 "nbformat_minor": 2
}
